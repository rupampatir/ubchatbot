{
 "cells": [
  {
   "cell_type": "code",
   "execution_count": 1,
   "metadata": {},
   "outputs": [],
   "source": [
    "from selenium import webdriver\n",
    "from bs4 import BeautifulSoup\n",
    "import time\n",
    "from selenium.webdriver.common.by import By\n",
    "from selenium.webdriver.support.ui import Select\n",
    "\n",
    "# Set the path to the WebDriver\n",
    "driver_path = '/Users/rupampatir/Downloads/chromedriver_mac64/chromedriver'  # Replace with your WebDriver path\n",
    "\n",
    "# Initialize the WebDriver (example using Chrome)\n",
    "driver = webdriver.Chrome()\n",
    "driver.implicitly_wait(5)"
   ]
  },
  {
   "cell_type": "code",
   "execution_count": 2,
   "metadata": {},
   "outputs": [],
   "source": [
    "# Open the webpage\n",
    "driver.get('https://engineering.buffalo.edu/computer-science-engineering/graduate/courses/class-schedule.html')  # Replace with the actual URL\n",
    "\n",
    "# Optionally, wait for the page to load completely\n",
    "# time.sleep(2)  # Adjust the time as needed\n",
    "\n",
    "# Find the button and click it\n",
    "# Replace 'button_selector' with the appropriate selector for the button\n",
    "select = driver.find_element(By.ID, \"termsourcekey_param\")  # Example using class name\n",
    "select = Select(select)\n",
    "semesters = []\n",
    "for option in select.options:\n",
    "    semesters.append(option.text)"
   ]
  },
  {
   "cell_type": "code",
   "execution_count": 3,
   "metadata": {},
   "outputs": [],
   "source": [
    "def go_to_semester(semester):\n",
    "    driver.get('https://engineering.buffalo.edu/computer-science-engineering/graduate/courses/class-schedule.html') \n",
    "    # time.sleep(1)\n",
    "    select = driver.find_element(By.ID, \"termsourcekey_param\") \n",
    "    select = Select(select)\n",
    "    select.select_by_visible_text(semester)\n",
    "    # time.sleep(1)"
   ]
  },
  {
   "cell_type": "code",
   "execution_count": 4,
   "metadata": {},
   "outputs": [],
   "source": [
    "def go_to_course(course_idx):\n",
    "    button = driver.find_elements(By.CLASS_NAME, \"linklike\")[course_idx]  # Example using class name\n",
    "    button.click()\n",
    "    # time.sleep(1)  "
   ]
  },
  {
   "cell_type": "code",
   "execution_count": 5,
   "metadata": {},
   "outputs": [],
   "source": [
    "def fetch_course_details(html):\n",
    "    # Parse the HTML\n",
    "    soup = BeautifulSoup(html, 'html.parser')\n",
    "\n",
    "    # Extract Course Title and Description\n",
    "    course_title = soup.find('h3', text='Course Title').find_next_sibling('p').text\n",
    "    course_description = soup.find('h3', text='Course Description').find_next_sibling('p').text\n",
    "\n",
    "    # Extract Program Requirements (assuming there's only one table for this section)\n",
    "    program_requirements = {}\n",
    "    for row in soup.find_all('table')[0].find_all('tr'):\n",
    "        columns = row.find_all('td')\n",
    "        if columns:\n",
    "            program_requirements[columns[0]['class'][0]] = columns[0].text  # PhD requirements\n",
    "            program_requirements[columns[1]['class'][0]] = columns[1].text  # MS requirements\n",
    "\n",
    "    # Extract Course Instances\n",
    "    course_instances = []\n",
    "    course_table = soup.find_all('table')[1]  # Assuming the second table is for course instances\n",
    "    for row in course_table.find_all('tr')[1:]:  # Skip header row\n",
    "        cols = [td.text.strip() for td in row.find_all('td')]\n",
    "        if cols:\n",
    "            instance = {\n",
    "                'Term': cols[0],\n",
    "                'Title': cols[1],\n",
    "                'Instructor': cols[2],\n",
    "                'Dates': cols[3],\n",
    "                'Days': cols[4],\n",
    "                'Times': cols[5],\n",
    "                'Credit Hours': cols[6],\n",
    "                'Enrolled': cols[7]\n",
    "            }\n",
    "            course_instances.append(instance)\n",
    "\n",
    "    return {\n",
    "        \"Course Title\": course_title,\n",
    "        \"Course Description\": course_description,\n",
    "        \"Program Requirements\": program_requirements,\n",
    "        \"Course Instances\": course_instances\n",
    "    }"
   ]
  },
  {
   "cell_type": "code",
   "execution_count": 6,
   "metadata": {},
   "outputs": [],
   "source": [
    "def get_semester_info(html):\n",
    "    \n",
    "    soup = BeautifulSoup(html, 'html.parser')\n",
    "\n",
    "    # Find the table by ID or other attributes (if needed)\n",
    "    table = soup.find('table')\n",
    "\n",
    "    # Initialize a list to hold course data\n",
    "    courses = []\n",
    "    if (not table):\n",
    "        return []\n",
    "    # Iterate through each row in the table, skipping the header row\n",
    "    for row in table.find_all('tr')[1:]:\n",
    "        cols = row.find_all('td')\n",
    "        \n",
    "        # Extract each piece of information\n",
    "        course_code = cols[0].text.strip()\n",
    "        section = cols[1].text.strip()\n",
    "        title = cols[2].text.strip()\n",
    "        instructor = cols[3].text.strip()\n",
    "        dates = cols[4].text.strip()\n",
    "        days = cols[5].text.strip()\n",
    "        times = cols[6].text.strip()\n",
    "        room = cols[7].text.strip()\n",
    "        instruction_mode = cols[8].text.strip()\n",
    "        enrolled = cols[9].text.strip()\n",
    "\n",
    "        \n",
    "        # Add the course data to the list\n",
    "        courses.append({\n",
    "            \"Course Code\": course_code,\n",
    "            \"Section\": section,\n",
    "            \"Title\": title,\n",
    "            \"Instructor\": instructor,\n",
    "            \"Dates\": dates,\n",
    "            \"Days\": days,\n",
    "            \"Times\": times,\n",
    "            \"Room\": room,\n",
    "            \"Instruction Mode\": instruction_mode,\n",
    "            \"Enrolled\": enrolled\n",
    "        })\n",
    "\n",
    "    return courses"
   ]
  },
  {
   "cell_type": "code",
   "execution_count": 7,
   "metadata": {},
   "outputs": [],
   "source": [
    "semester_info = {}\n",
    "course_details = {}\n",
    "for semester in semesters:\n",
    "        # semester = \"Fall 2024\"\n",
    "        go_to_semester(semester)\n",
    "        semester_info[semester] = get_semester_info(driver.page_source)\n",
    "        for course_idx in range(len(semester_info[semester])):\n",
    "                if semester_info[semester][course_idx][\"Course Code\"] in course_details:\n",
    "                        continue\n",
    "                go_to_semester(semester)\n",
    "                go_to_course(course_idx)\n",
    "                print(\"Processing \", semester_info[semester][course_idx][\"Title\"])\n",
    "                course_details[semester_info[semester][course_idx][\"Course Code\"]] = fetch_course_details(driver.page_source)"
   ]
  },
  {
   "cell_type": "code",
   "execution_count": 8,
   "metadata": {},
   "outputs": [],
   "source": [
    "import json\n",
    "with open(\"course_details\", 'w') as file:\n",
    "    json.dump(course_details, file, indent=4)\n",
    "with open(\"semester_details\", 'w') as file:\n",
    "    json.dump(semester_info, file, indent=4)"
   ]
  }
 ],
 "metadata": {
  "kernelspec": {
   "display_name": "Python 3",
   "language": "python",
   "name": "python3"
  },
  "language_info": {
   "codemirror_mode": {
    "name": "ipython",
    "version": 3
   },
   "file_extension": ".py",
   "mimetype": "text/x-python",
   "name": "python",
   "nbconvert_exporter": "python",
   "pygments_lexer": "ipython3",
   "version": "3.8.10"
  }
 },
 "nbformat": 4,
 "nbformat_minor": 2
}
